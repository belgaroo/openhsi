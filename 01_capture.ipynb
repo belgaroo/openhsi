{
 "cells": [
  {
   "cell_type": "code",
   "execution_count": 1,
   "metadata": {},
   "outputs": [],
   "source": [
    "# default_exp capture"
   ]
  },
  {
   "cell_type": "markdown",
   "metadata": {},
   "source": [
    "# Capture\n",
    "\n",
    "> Wrapper class and example code for getting images from the OpenHSI using a ximea detetor (with IMX252 sensor, e.g. MX031CG-SY).Wrapper class and example code for getting images from the OpenHSI using a ximea detetor (with IMX252 sensor, e.g. [MX031CG-SY](https://www.ximea.com/en/products/xilab-application-specific-custom-oem/embedded-vision-and-multi-camera-setup-xix/sony-imx252-fast-color-industrial-camera))."
   ]
  },
  {
   "cell_type": "code",
   "execution_count": 2,
   "metadata": {},
   "outputs": [],
   "source": [
    "#hide\n",
    "from nbdev.showdoc import *"
   ]
  },
  {
   "cell_type": "code",
   "execution_count": 3,
   "metadata": {},
   "outputs": [],
   "source": [
    "#export\n",
    "import numpy as np\n",
    "import matplotlib.pyplot as plt\n",
    "from ximea import xiapi"
   ]
  },
  {
   "cell_type": "code",
   "execution_count": 11,
   "metadata": {},
   "outputs": [],
   "source": [
    "#export\n",
    "class OpenHSI(object):\n",
    "    \"\"\"XIMEA camera class to take images\"\"\"\n",
    "\n",
    "    def __init__(self, serialnumber:str = None, xbinwidth:int = 896, xbinoffset:int = 528, \n",
    "                exposure_ms:int = 1000, gain:int = 0):\n",
    "        \"\"\"Init the camera\"\"\"\n",
    "        self.xicam = xiapi.Camera()\n",
    "        self.xicam.open_device_by_SN(serialnumber) if serialnumber else self.xicam.open_device()\n",
    "\n",
    "        print(f'Connected to device {self.xicam.get_device_sn()}')\n",
    "\n",
    "        self.xbinwidth  = xbinwidth\n",
    "        self.xbinoffset = xbinoffset\n",
    "        self.exposure   = exposure_ms # ms?\n",
    "        self.gain       = 0\n",
    "\n",
    "        self.xicam.set_width(self.xbinwidth)\n",
    "        self.xicam.set_offsetX(self.xbinoffset)\n",
    "        self.xicam.set_exposure_direct(1000*self.exposure)\n",
    "        self.xicam.set_gain_direct(self.gain)\n",
    "\n",
    "        # What other settings are there?, can we make these *args, **kwargs? and check \n",
    "        # them using getattr()\n",
    "        self.xicam.set_imgdataformat(\"XI_RAW16\")\n",
    "        self.xicam.set_output_bit_depth(\"XI_BPP_12\")\n",
    "        self.xicam.enable_output_bit_packing()\n",
    "        self.xicam.disable_aeag() # what is this?\n",
    "        \n",
    "        self.xicam.set_binning_vertical(2)\n",
    "        self.xicam.set_binning_vertical_mode(\"XI_BIN_MODE_SUM\")\n",
    "\n",
    "        self.rows, self.cols = self.xicam.get_height(), self.xicam.get_width()\n",
    "\n",
    "        self.img = xiapi.Image()\n",
    "        self.xicam.start_acquisition()\n",
    "\n",
    "    def __enter__(self):\n",
    "        return self\n",
    "\n",
    "    def __exit__(self, exc_type, exc_value, traceback):\n",
    "        self.xicam.stop_acquisition()\n",
    "        self.xicam.close_device()\n",
    "\n",
    "    @property\n",
    "    def exposure(self) -> float: # or int?\n",
    "        \"\"\"Current exposure in ms.\"\"\"\n",
    "        return self.xicam.get_exposure() / 1000\n",
    "\n",
    "    @exposure.setter\n",
    "    def exposure(self, val):\n",
    "        \"\"\"Update exposure in ms.\"\"\"\n",
    "        self.xicam.set_exposure_direct(val * 1000)\n",
    "\n",
    "    @property\n",
    "    def gain(self) -> float: # or int?\n",
    "        \"\"\"Current exposure property in dB from 0 to 24 dB.\"\"\"\n",
    "        return self.xicam.get_gain()\n",
    "\n",
    "    @gain.setter\n",
    "    def gain(self, val):\n",
    "        \"\"\"Update gain in dB.\"\"\"\n",
    "        self.xicam.set_gain_direct(val)\n",
    "\n",
    "    # possibly put in getter and setter methods for xbinwidth and xbinoffset\n",
    "\n",
    "    def get_img(self, n:int = 1, show:bool = True) -> np.ndarray:\n",
    "        \"\"\"Take `n` images with option to `show` first image taken.\"\"\"\n",
    "\n",
    "        data = np.zeros((self.cols,self.rows,n), dtype = np.uint16)\n",
    "        for i in range(n):\n",
    "            self.xicam.get_image(self.img)\n",
    "            data[...,i] = np.rot90(self.img.get_image_data_numpy(), -1)\n",
    "        \n",
    "        if show and n > 0:\n",
    "            plt.imshow(data[...,0])\n",
    "            plt.xlabel('Wavelength (nm)')\n",
    "            plt.ylabel('Line pixels')\n",
    "            plt.show()\n",
    "\n",
    "        return data\n",
    "\n",
    "\n"
   ]
  },
  {
   "cell_type": "markdown",
   "metadata": {},
   "source": [
    "The `OpenHSI` class contains getters and setters to return and modify the `exposure` (in milliseconds) and `gain`. "
   ]
  },
  {
   "cell_type": "code",
   "execution_count": 12,
   "metadata": {},
   "outputs": [
    {
     "output_type": "display_data",
     "data": {
      "text/plain": "<IPython.core.display.Markdown object>",
      "text/markdown": "<h4 id=\"OpenHSI.get_img\" class=\"doc_header\"><code>OpenHSI.get_img</code><a href=\"__main__.py#L67\" class=\"source_link\" style=\"float:right\">[source]</a></h4>\n\n> <code>OpenHSI.get_img</code>(**`n`**:`int`=*`1`*, **`show`**:`bool`=*`True`*)\n\nTake `n` images with option to `show` first image taken."
     },
     "metadata": {}
    }
   ],
   "source": [
    "show_doc(OpenHSI.get_img)"
   ]
  },
  {
   "cell_type": "code",
   "execution_count": 13,
   "metadata": {},
   "outputs": [],
   "source": [
    "#export\n",
    "def take_show():\n",
    "    \"\"\"Grab a single image using `get_img` and plot it\"\"\"\n",
    "    with OpenHSI(xbinwidth=896,xbinoffset=528,exposure_ms=1000,gain=0) as cam:\n",
    "        img = cam.start().get_img()\n",
    "        plt.imshow(img)\n",
    "        plt.xlabel('Wavelength (nm)')\n",
    "        plt.ylabel('Line pixels')\n",
    "        plt.show()"
   ]
  },
  {
   "cell_type": "markdown",
   "metadata": {},
   "source": [
    "For convience, a function is provided that initialises the camera, takes an image, and display it. "
   ]
  },
  {
   "cell_type": "code",
   "execution_count": null,
   "metadata": {},
   "outputs": [],
   "source": []
  }
 ],
 "metadata": {
  "kernelspec": {
   "display_name": "Python 3",
   "language": "python",
   "name": "python3"
  }
 },
 "nbformat": 4,
 "nbformat_minor": 2
}