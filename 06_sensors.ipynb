{
 "cells": [
  {
   "cell_type": "code",
   "execution_count": null,
   "metadata": {},
   "outputs": [],
   "source": [
    "# default_exp sensors"
   ]
  },
  {
   "cell_type": "markdown",
   "metadata": {},
   "source": [
    "# Sensors\n",
    "> reads sensor data over UART\n"
   ]
  },
  {
   "cell_type": "code",
   "execution_count": 1,
   "metadata": {},
   "outputs": [],
   "source": [
    "#export\n",
    "import time\n",
    "import serial # pip install pyserial\n",
    "import numpy"
   ]
  },
  {
   "cell_type": "code",
   "execution_count": null,
   "metadata": {},
   "outputs": [],
   "source": [
    "#export\n",
    "\n",
    "class Sensors(object):\n",
    "    \n",
    "    def __init__(self,baudrate=19200,port=\"/dev/ttyTHS0\"):\n",
    "        self.ser = serial.Serial(port=port,\n",
    "                                baudrate=baudrate,\n",
    "                                bytesize=serial.EIGHTBITS,\n",
    "                                parity=serial.PARITY_NONE,\n",
    "                                stopbits=serial.STOPBITS_ONE,\n",
    "                                )\n",
    "        self.ser.flushInput()\n",
    "        time.sleep(1) # Wait a second to let the port initialize\n",
    "\n",
    "    def readSerial(self):\n",
    "        \n",
    "        if ser.inWaiting() > 0:\n",
    "            \n",
    "            self.data = ser.readline().decode()\n",
    "            #print(data.decode())\n",
    "            \n",
    "            #if data == \"\\r\".encode():\n",
    "            #    ser.write(\"\\n\".encode())\n",
    "                \n",
    "    def loopReadSerial(self):\n",
    "        try: \n",
    "            print(\"starting transmission\")\n",
    "            ser.write(\"UART Demonstration Program\\r\\n\".encode())\n",
    "            \n",
    "            while True:\n",
    "                self.readSerial()\n",
    "                \n",
    "                print(self.data)\n",
    "                break\n",
    "                \n",
    "        except KeyboardInterrupt:\n",
    "            print(\"Exiting Program\")\n",
    "\n",
    "        except Exception as exception_error:\n",
    "\n",
    "            print(\"Error occurred. Exiting Program\")\n",
    "            print(\"Error: \" + str(exception_error))\n",
    "\n",
    "        finally:\n",
    "            self.ser.close()\n",
    "\n"
   ]
  },
  {
   "cell_type": "code",
   "execution_count": null,
   "metadata": {},
   "outputs": [],
   "source": [
    "peripherals = Sensors(baudrate=19200,port=\"/dev/ttyTHS0\")\n",
    "peripherals.loopReadSerial()\n"
   ]
  }
 ],
 "metadata": {
  "kernelspec": {
   "display_name": "Python 3.8.3 64-bit ('3.8.3': pyenv)",
   "language": "python",
   "name": "python38364bit383pyenv4fc1801d817447c6b9c76f7bacd532a1"
  },
  "language_info": {
   "codemirror_mode": {
    "name": "ipython",
    "version": 3
   },
   "file_extension": ".py",
   "mimetype": "text/x-python",
   "name": "python",
   "nbconvert_exporter": "python",
   "pygments_lexer": "ipython3",
   "version": "3.8.3"
  }
 },
 "nbformat": 4,
 "nbformat_minor": 4
}
