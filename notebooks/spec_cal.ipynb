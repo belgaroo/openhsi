{
 "cells": [
  {
   "cell_type": "code",
   "execution_count": 6,
   "metadata": {},
   "outputs": [],
   "source": [
    "import numpy as np\n",
    "from astropy.io import fits as fitsio\n",
    "import matplotlib.pyplot as plt\n",
    "from matplotlib.pyplot import figure\n",
    "from scipy.signal import find_peaks\n",
    "from scipy.optimize import curve_fit\n",
    "from tqdm import tqdm\n",
    "from scipy.signal import savgol_filter\n",
    "from openhsi.utils import *\n",
    "\n",
    "%matplotlib widget\n",
    "\n",
    "def func(x, *params):  # x0 pk width\n",
    "    y = np.zeros_like(x)\n",
    "    for i in range(0, len(params)-1, 3):\n",
    "        ctr = params[i]\n",
    "        amp = params[i+1]\n",
    "        wid = params[i+2]\n",
    "        y = y + amp * np.exp( -((x - ctr)/wid)**2)\n",
    "    return y+params[-1] \n",
    "\n",
    "hdulist = fitsio.open(\"../openhsi/test_files/arc.fits\")\n",
    "\n",
    "arcimg = np.rot90(hdulist[0].data, -1)\n",
    "arcimg = arcimg * 1.0 / np.max(arcimg, axis=1)[:, None]\n",
    "\n",
    "spatialaxis=np.arange(0,arcimg.shape[0])\n",
    "waveaxis=np.arange(0,arcimg.shape[1])"
   ]
  },
  {
   "cell_type": "code",
   "execution_count": null,
   "metadata": {
    "scrolled": true
   },
   "outputs": [],
   "source": [
    "plt.figure().clf()\n",
    "imgplot = plt.imshow(np.log10(arcimg.transpose()),origin='lower')\n",
    "plt.ylabel('Detector Pixel (Wavelength Axis)')\n",
    "plt.xlabel('Detector Pixels (Spatial Axis)')\n",
    "plt.show()"
   ]
  },
  {
   "cell_type": "code",
   "execution_count": null,
   "metadata": {},
   "outputs": [],
   "source": [
    "spatial_col_skip=1\n",
    "fits = np.zeros((len(range(1, arcimg.shape[0], spatial_col_skip))+1, 28))\n",
    "\n",
    "spec = arcimg[0, :]\n",
    "peaks, properties = find_peaks(spec, height=0.01, width=1.5, prominence=0.01)\n",
    "\n",
    "\n",
    "y0 = np.zeros((peaks.size * 3))\n",
    "y0[0::3] = peaks\n",
    "y0[1::3] = properties[\"peak_heights\"]\n",
    "y0[2::3] = properties[\"widths\"] * 0.5\n",
    "y0 = np.append(y0, 0.02)\n",
    "\n",
    "fits[0,:], pcov = curve_fit(func, waveaxis, spec, p0=y0)\n",
    "i=0\n",
    "for col in tqdm(range(1, arcimg.shape[0], spatial_col_skip)):\n",
    "    i+=1\n",
    "    spec = arcimg[col, :]\n",
    "    y0 = fits[i-1,:]\n",
    "    fits[i,:], pcov = curve_fit(func, waveaxis, spec, p0=y0)"
   ]
  },
  {
   "cell_type": "code",
   "execution_count": null,
   "metadata": {
    "scrolled": true
   },
   "outputs": [],
   "source": [
    "plt.figure()\n",
    "\n",
    "pos=fits[:,range(0,fits.shape[1]-1,3)]\n",
    "peakheight=fits[:,range(0,fits.shape[1]-1,3)]\n",
    "width=fits[:,range(2,fits.shape[1]-1,3)]\n",
    "\n",
    "smooth_pos = np.zeros_like(pos)\n",
    "\n",
    "for row in tqdm(range(0, pos.shape[1])):\n",
    "    smooth_pos[:,row] = savgol_filter(pos[:,row], 21, 3)\n",
    "    \n",
    "plt.subplot(211)\n",
    "plt.plot(spatialaxis[range(0, arcimg.shape[0], spatial_col_skip)], smooth_pos - np.mean(pos,axis=0)) \n",
    "plt.plot(spatialaxis[range(0, arcimg.shape[0], spatial_col_skip)], pos - np.mean(pos,axis=0))\n",
    "plt.title('Spectral Line Positions (Smoothed and Fit)')\n",
    "plt.ylabel('Detector Pixel (Wavelength Axis; Centred on Mean of Each Line)')\n",
    "plt.xlabel('Detector Pixels (Spatial Axis)')\n",
    "\n",
    "plt.subplot(212)\n",
    "plt.plot(spatialaxis[range(0, arcimg.shape[0], spatial_col_skip)], smooth_pos - pos) #-np.mean(fits[:,range(0,fits.shape[1]-1,3)],axis=0) #- np.mean(pos,axis=0)\n",
    "plt.title('Difference of Smoothed and Fit Position')\n",
    "plt.ylabel('Detector Pixel (Wavelength Axis)')\n",
    "plt.xlabel('Detector Pixels (Spatial Axis)')\n",
    "plt.show()"
   ]
  },
  {
   "cell_type": "code",
   "execution_count": null,
   "metadata": {
    "scrolled": true
   },
   "outputs": [],
   "source": [
    "plt.figure()\n",
    "plt.subplot(211)\n",
    "plt.plot(spatialaxis[range(0, arcimg.shape[0], spatial_col_skip)],pos)\n",
    "plt.title('Fit Line Positon')\n",
    "plt.xlabel('Detector Pixels (Spatial Axis)')\n",
    "plt.ylabel('Detector Pixel (Wavelength Axis)')\n",
    "\n",
    "plt.subplot(212)\n",
    "plt.plot(spatialaxis[range(0, arcimg.shape[0], spatial_col_skip)],width*2.355)\n",
    "plt.title('Fit Line Width (FWHM)')\n",
    "plt.xlabel('Detector Pixels (Spatial Axis)')\n",
    "plt.ylabel('Detector Pixel (Wavelength Axis)')\n",
    "\n",
    "plt.show()"
   ]
  },
  {
   "cell_type": "code",
   "execution_count": null,
   "metadata": {},
   "outputs": [],
   "source": [
    "spectral_lines=np.asarray([4358.328, 5460.735, 5769.598, 5790.663, 6965.4307, 7067.2175, 7272.9359, 7383.9805, 7503.8691])/10\n",
    "smooth_pos.shape\n",
    "\n",
    "wavecal=np.zeros((smooth_pos.shape[0], waveaxis.shape[0]))\n",
    "p=[]\n",
    "for i in range(0,smooth_pos.shape[0]):\n",
    "    z = np.polyfit(smooth_pos[i,:], spectral_lines, 4)\n",
    "    p.append(np.poly1d(z))\n",
    "    wavecal[i,:]=p[-1](waveaxis)\n",
    "    \n",
    "\n",
    "plt.figure()\n",
    "for row in range(0,896,64):\n",
    "    plt.plot(wavecal[row,:],arcimg[row,:]+row/256)\n",
    "    \n",
    "#plt.plot(spectral_lines,p[100](smooth_pos[100,:])-spectral_lines,'x')\n",
    "#minmax(p(waveaxis))\n",
    "\n",
    "plt.show()"
   ]
  },
  {
   "cell_type": "code",
   "execution_count": null,
   "metadata": {},
   "outputs": [],
   "source": [
    "wavecal=np.zeros((smooth_pos.shape[0], waveaxis.shape[0]))\n",
    "wavecal.shape"
   ]
  },
  {
   "cell_type": "code",
   "execution_count": null,
   "metadata": {},
   "outputs": [],
   "source": [
    "wavecal.shape\n",
    "arcimg.shape"
   ]
  },
  {
   "cell_type": "code",
   "execution_count": null,
   "metadata": {},
   "outputs": [],
   "source": []
  },
  {
   "cell_type": "code",
   "execution_count": null,
   "metadata": {},
   "outputs": [],
   "source": [
    "plt.show()"
   ]
  },
  {
   "cell_type": "code",
   "execution_count": null,
   "metadata": {},
   "outputs": [],
   "source": [
    "p(smooth_pos[50,:])"
   ]
  },
  {
   "cell_type": "code",
   "execution_count": null,
   "metadata": {},
   "outputs": [],
   "source": [
    "p(smooth_pos[50,:])-spectraline"
   ]
  },
  {
   "cell_type": "code",
   "execution_count": null,
   "metadata": {},
   "outputs": [],
   "source": [
    "p(smooth_pos[50,:])-spectral_lines"
   ]
  },
  {
   "cell_type": "code",
   "execution_count": null,
   "metadata": {},
   "outputs": [],
   "source": [
    "plot(smooth_pos[i,:], spectral_lines)"
   ]
  },
  {
   "cell_type": "code",
   "execution_count": null,
   "metadata": {},
   "outputs": [],
   "source": [
    "plt.figure()\n",
    "plt.plot(spectral_lines,smooth_pos[i,:],'x')\n",
    "plt.show()"
   ]
  },
  {
   "cell_type": "code",
   "execution_count": 2,
   "metadata": {},
   "outputs": [],
   "source": []
  },
  {
   "cell_type": "code",
   "execution_count": 5,
   "metadata": {},
   "outputs": [
    {
     "data": {
      "text/plain": [
       "(1, 2)"
      ]
     },
     "execution_count": 5,
     "metadata": {},
     "output_type": "execute_result"
    }
   ],
   "source": [
    "c"
   ]
  },
  {
   "cell_type": "code",
   "execution_count": null,
   "metadata": {},
   "outputs": [],
   "source": []
  }
 ],
 "metadata": {
  "kernelspec": {
   "display_name": "Python 3",
   "language": "python",
   "name": "python3"
  },
  "language_info": {
   "codemirror_mode": {
    "name": "ipython",
    "version": 3
   },
   "file_extension": ".py",
   "mimetype": "text/x-python",
   "name": "python",
   "nbconvert_exporter": "python",
   "pygments_lexer": "ipython3",
   "version": "3.7.6"
  }
 },
 "nbformat": 4,
 "nbformat_minor": 2
}
