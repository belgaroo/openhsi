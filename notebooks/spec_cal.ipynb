{
 "cells": [
  {
   "cell_type": "code",
   "execution_count": 7,
   "metadata": {},
   "outputs": [],
   "source": [
    "from tqdm import tqdm\n",
    "import matplotlib.pyplot as plt\n",
    "from matplotlib.pyplot import figure\n",
    "%matplotlib widget\n",
    "\n",
    "\n",
    "import numpy as np\n",
    "from astropy.io import fits as fitsio\n",
    "from scipy.signal import find_peaks, savgol_filter\n",
    "from scipy.optimize import curve_fit\n",
    "from scipy import interpolate\n",
    "\n",
    "from openhsi.utils import *\n",
    "\n",
    "hdulist = fitsio.open(\"../openhsi/test_files/arc.fits\")\n",
    "\n",
    "arcimg = np.rot90(hdulist[0].data, -1)\n",
    "arcimg = arcimg * 1.0 / np.max(arcimg, axis=1)[:, None]\n",
    "\n",
    "spatialaxis=np.arange(0,arcimg.shape[0])\n",
    "waveaxis=np.arange(0,arcimg.shape[1])"
   ]
  },
  {
   "cell_type": "code",
   "execution_count": 8,
   "metadata": {
    "scrolled": true
   },
   "outputs": [
    {
     "data": {
      "application/vnd.jupyter.widget-view+json": {
       "model_id": "c42d312d151b44919eac0e3bbd6642be",
       "version_major": 2,
       "version_minor": 0
      },
      "text/plain": [
       "Canvas(toolbar=Toolbar(toolitems=[('Home', 'Reset original view', 'home', 'home'), ('Back', 'Back to previous …"
      ]
     },
     "metadata": {},
     "output_type": "display_data"
    }
   ],
   "source": [
    "plt.figure().clf()\n",
    "imgplot = plt.imshow(np.log10(arcimg.transpose()),origin='lower')\n",
    "plt.ylabel('Detector Pixel (Wavelength Axis)')\n",
    "plt.xlabel('Detector Pixels (Spatial Axis)')\n",
    "plt.show()"
   ]
  },
  {
   "cell_type": "code",
   "execution_count": 13,
   "metadata": {},
   "outputs": [
    {
     "name": "stderr",
     "output_type": "stream",
     "text": [
      "100%|██████████| 895/895 [00:22<00:00, 40.14it/s]\n"
     ]
    }
   ],
   "source": [
    "spatial_col_skip=1\n",
    "fits = np.zeros((len(range(1, arcimg.shape[0], spatial_col_skip))+1, 28))\n",
    "\n",
    "spec = arcimg[0, :]\n",
    "peaks, properties = find_peaks(spec, height=0.01, width=1.5, prominence=0.01)\n",
    "\n",
    "\n",
    "y0 = np.zeros((peaks.size * 3))\n",
    "y0[0::3] = peaks\n",
    "y0[1::3] = properties[\"peak_heights\"]\n",
    "y0[2::3] = properties[\"widths\"] * 0.5\n",
    "y0 = np.append(y0, 0.02)\n",
    "\n",
    "fits[0,:], pcov = curve_fit(NGaussFunc, waveaxis, spec, p0=y0)\n",
    "i=0\n",
    "for col in tqdm(range(1, arcimg.shape[0], spatial_col_skip)):\n",
    "    i+=1\n",
    "    spec = arcimg[col, :]\n",
    "    y0 = fits[i-1,:]\n",
    "    fits[i,:], pcov = curve_fit(func, waveaxis, spec, p0=y0)"
   ]
  },
  {
   "cell_type": "code",
   "execution_count": 14,
   "metadata": {
    "scrolled": true
   },
   "outputs": [
    {
     "data": {
      "application/vnd.jupyter.widget-view+json": {
       "model_id": "ef994cc5b68f467a93806faa8fbc2734",
       "version_major": 2,
       "version_minor": 0
      },
      "text/plain": [
       "Canvas(toolbar=Toolbar(toolitems=[('Home', 'Reset original view', 'home', 'home'), ('Back', 'Back to previous …"
      ]
     },
     "metadata": {},
     "output_type": "display_data"
    },
    {
     "name": "stderr",
     "output_type": "stream",
     "text": [
      "100%|██████████| 9/9 [00:00<00:00, 297.29it/s]\n"
     ]
    }
   ],
   "source": [
    "plt.figure()\n",
    "\n",
    "pos=fits[:,range(0,fits.shape[1]-1,3)]\n",
    "peakheight=fits[:,range(0,fits.shape[1]-1,3)]\n",
    "width=fits[:,range(2,fits.shape[1]-1,3)]\n",
    "\n",
    "smooth_pos = np.zeros_like(pos)\n",
    "\n",
    "for row in tqdm(range(0, pos.shape[1])):\n",
    "    smooth_pos[:,row] = savgol_filter(pos[:,row], 21, 3)\n",
    "    \n",
    "plt.subplot(211)\n",
    "plt.plot(spatialaxis[range(0, arcimg.shape[0], spatial_col_skip)], smooth_pos - np.mean(pos,axis=0)) \n",
    "plt.plot(spatialaxis[range(0, arcimg.shape[0], spatial_col_skip)], pos - np.mean(pos,axis=0))\n",
    "plt.title('Spectral Line Positions (Smoothed and Fit)')\n",
    "plt.ylabel('Detector Pixel (Wavelength Axis; Centred on Mean of Each Line)')\n",
    "plt.xlabel('Detector Pixels (Spatial Axis)')\n",
    "\n",
    "plt.subplot(212)\n",
    "plt.plot(spatialaxis[range(0, arcimg.shape[0], spatial_col_skip)], smooth_pos - pos) #-np.mean(fits[:,range(0,fits.shape[1]-1,3)],axis=0) #- np.mean(pos,axis=0)\n",
    "plt.title('Difference of Smoothed and Fit Position')\n",
    "plt.ylabel('Detector Pixel (Wavelength Axis)')\n",
    "plt.xlabel('Detector Pixels (Spatial Axis)')\n",
    "plt.show()"
   ]
  },
  {
   "cell_type": "code",
   "execution_count": 15,
   "metadata": {
    "scrolled": true
   },
   "outputs": [
    {
     "data": {
      "application/vnd.jupyter.widget-view+json": {
       "model_id": "7e0b38be09234561abc8fc27f1f6b381",
       "version_major": 2,
       "version_minor": 0
      },
      "text/plain": [
       "Canvas(toolbar=Toolbar(toolitems=[('Home', 'Reset original view', 'home', 'home'), ('Back', 'Back to previous …"
      ]
     },
     "metadata": {},
     "output_type": "display_data"
    }
   ],
   "source": [
    "plt.figure()\n",
    "plt.subplot(211)\n",
    "plt.plot(spatialaxis[range(0, arcimg.shape[0], spatial_col_skip)],pos)\n",
    "plt.title('Fit Line Positon')\n",
    "plt.xlabel('Detector Pixels (Spatial Axis)')\n",
    "plt.ylabel('Detector Pixel (Wavelength Axis)')\n",
    "\n",
    "plt.subplot(212)\n",
    "plt.plot(spatialaxis[range(0, arcimg.shape[0], spatial_col_skip)],width*2.355)\n",
    "plt.title('Fit Line Width (FWHM)')\n",
    "plt.xlabel('Detector Pixels (Spatial Axis)')\n",
    "plt.ylabel('Detector Pixel (Wavelength Axis)')\n",
    "\n",
    "plt.show()"
   ]
  },
  {
   "cell_type": "code",
   "execution_count": 16,
   "metadata": {},
   "outputs": [
    {
     "data": {
      "application/vnd.jupyter.widget-view+json": {
       "model_id": "def9d3591aee47479e7d32fb3e4fbfe3",
       "version_major": 2,
       "version_minor": 0
      },
      "text/plain": [
       "Canvas(toolbar=Toolbar(toolitems=[('Home', 'Reset original view', 'home', 'home'), ('Back', 'Back to previous …"
      ]
     },
     "metadata": {},
     "output_type": "display_data"
    }
   ],
   "source": [
    "spectral_lines=np.asarray([4358.328, 5460.735, 5769.598, 5790.663, 6965.4307, 7067.2175, 7272.9359, 7383.9805, 7503.8691])/10\n",
    "smooth_pos.shape\n",
    "\n",
    "wavecal=np.zeros((smooth_pos.shape[0], waveaxis.shape[0]))\n",
    "p=[]\n",
    "for i in range(0,smooth_pos.shape[0]):\n",
    "    z = np.polyfit(smooth_pos[i,:], spectral_lines, 4)\n",
    "    p.append(np.poly1d(z))\n",
    "    wavecal[i,:]=p[-1](waveaxis)\n",
    "    \n",
    "\n",
    "plt.figure()\n",
    "for row in range(0,896,64):\n",
    "    plt.plot(wavecal[row,:],arcimg[row,:]+row/256)\n",
    "    \n",
    "#plt.plot(spectral_lines,p[100](smooth_pos[100,:])-spectral_lines,'x')\n",
    "#minmax(p(waveaxis))\n",
    "\n",
    "plt.show()"
   ]
  },
  {
   "cell_type": "code",
   "execution_count": 63,
   "metadata": {},
   "outputs": [],
   "source": [
    "# min and max wave in all cols.\n",
    "minwave=wavecal.min(axis=1).max()  \n",
    "maxwave=wavecal.max(axis=1).min()\n",
    "minwavedelta=np.diff(wavecal,axis=1).min()\n",
    "\n",
    "newwave=np.arange(minwave, maxwave, minwavedelta)\n",
    "\n",
    "interpimg=np.zeros((wavecal.shape[0], newwave.shape[0]))\n",
    "\n",
    "for col in range(0,wavecal.shape[0]):\n",
    "    f = interpolate.interp1d(wavecal[col,:], arcimg[col,:])\n",
    "    interpimg[col,:]=f(newwave)\n"
   ]
  },
  {
   "cell_type": "code",
   "execution_count": 71,
   "metadata": {},
   "outputs": [
    {
     "data": {
      "application/vnd.jupyter.widget-view+json": {
       "model_id": "4bed66ee22fa4e9dbd41cc3b9b928f93",
       "version_major": 2,
       "version_minor": 0
      },
      "text/plain": [
       "Canvas(toolbar=Toolbar(toolitems=[('Home', 'Reset original view', 'home', 'home'), ('Back', 'Back to previous …"
      ]
     },
     "metadata": {},
     "output_type": "display_data"
    }
   ],
   "source": [
    "plt.figure().clf()\n",
    "imgplot = plt.imshow(np.log10(interpimg.transpose()),origin='lower')\n",
    "plt.ylabel('Detector Pixel (Wavelength Axis)')\n",
    "plt.xlabel('Dfitsioetector Pixels (Spatial Axis)')\n",
    "plt.show()"
   ]
  },
  {
   "cell_type": "code",
   "execution_count": 70,
   "metadata": {},
   "outputs": [],
   "source": [
    "fitsio.writeto(\"arc_cal.fits\", interpimg, overwrite=True)"
   ]
  }
 ],
 "metadata": {
  "kernelspec": {
   "display_name": "Python 3",
   "language": "python",
   "name": "python3"
  },
  "language_info": {
   "codemirror_mode": {
    "name": "ipython",
    "version": 3
   },
   "file_extension": ".py",
   "mimetype": "text/x-python",
   "name": "python",
   "nbconvert_exporter": "python",
   "pygments_lexer": "ipython3",
   "version": "3.7.6"
  }
 },
 "nbformat": 4,
 "nbformat_minor": 2
}
